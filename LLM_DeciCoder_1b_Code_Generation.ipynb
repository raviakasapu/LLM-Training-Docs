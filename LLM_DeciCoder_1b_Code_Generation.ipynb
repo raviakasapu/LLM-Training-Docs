{
  "nbformat": 4,
  "nbformat_minor": 0,
  "metadata": {
    "colab": {
      "provenance": [],
      "gpuType": "T4",
      "authorship_tag": "ABX9TyNt8VmUkgPlane/EDNLTBW5",
      "include_colab_link": true
    },
    "kernelspec": {
      "name": "python3",
      "display_name": "Python 3"
    },
    "language_info": {
      "name": "python"
    },
    "accelerator": "GPU"
  },
  "cells": [
    {
      "cell_type": "markdown",
      "metadata": {
        "id": "view-in-github",
        "colab_type": "text"
      },
      "source": [
        "<a href=\"https://colab.research.google.com/github/raviakasapu/LLM-Training-Docs/blob/main/LLM_DeciCoder_1b_Code_Generation.ipynb\" target=\"_parent\"><img src=\"https://colab.research.google.com/assets/colab-badge.svg\" alt=\"Open In Colab\"/></a>"
      ]
    },
    {
      "cell_type": "markdown",
      "source": [
        "# LLM DeciCoder-1b code generation"
      ],
      "metadata": {
        "id": "2QOdVHT9_S1l"
      }
    },
    {
      "cell_type": "markdown",
      "source": [
        "https://huggingface.co/Deci/DeciCoder-1b\n",
        "\n",
        "https://huggingface.co/spaces/HuggingFaceH4/open_llm_leaderboard\n",
        "\n",
        "\n",
        "Reasons for selecting DeciCoder-1b\n",
        "* small LLM for testing and prototyping\n",
        "* Active developer usage\n",
        "* Better benchmark score for GSM8K of 1.74 (ability to solve multi-step mathematical reasoning problems) (Considered pythia-1.3b otherwise due to better score)\n",
        "*"
      ],
      "metadata": {
        "id": "2lKNixRE_esb"
      }
    },
    {
      "cell_type": "code",
      "source": [
        "!pip -q install langchain huggingface_hub transformers sentence_transformers xformers"
      ],
      "metadata": {
        "id": "LXrf5tiOCG_F"
      },
      "execution_count": 1,
      "outputs": []
    },
    {
      "cell_type": "code",
      "source": [
        "!pip install bitsandbytes>=0.39.0 -q"
      ],
      "metadata": {
        "id": "YTyDKlNmGVw0"
      },
      "execution_count": 2,
      "outputs": []
    },
    {
      "cell_type": "code",
      "source": [
        "# pip install -q transformers\n",
        "import torch\n",
        "\n",
        "from transformers import AutoTokenizer, AutoModelForCausalLM, set_seed\n",
        "from transformers import pipeline\n",
        "\n",
        "from typing import Union, Tuple, List\n",
        "import os\n",
        "import torch\n"
      ],
      "metadata": {
        "id": "YdMrKu9DAW2q"
      },
      "execution_count": 3,
      "outputs": []
    },
    {
      "cell_type": "code",
      "source": [
        "os.environ['HUGGINGFACEHUB_API_TOKEN'] = <hf token here>\n",
        "token = os.environ['HUGGINGFACEHUB_API_TOKEN']"
      ],
      "metadata": {
        "id": "mE3dX7L4ClZ6"
      },
      "execution_count": 4,
      "outputs": []
    },
    {
      "cell_type": "code",
      "source": [
        "!huggingface-cli login"
      ],
      "metadata": {
        "colab": {
          "base_uri": "https://localhost:8080/"
        },
        "id": "hyiaVx-QCt-F",
        "outputId": "bc29275a-b738-4124-9649-0fb7fbc6298e"
      },
      "execution_count": 5,
      "outputs": [
        {
          "output_type": "stream",
          "name": "stdout",
          "text": [
            "\n",
            "    _|    _|  _|    _|    _|_|_|    _|_|_|  _|_|_|  _|      _|    _|_|_|      _|_|_|_|    _|_|      _|_|_|  _|_|_|_|\n",
            "    _|    _|  _|    _|  _|        _|          _|    _|_|    _|  _|            _|        _|    _|  _|        _|\n",
            "    _|_|_|_|  _|    _|  _|  _|_|  _|  _|_|    _|    _|  _|  _|  _|  _|_|      _|_|_|    _|_|_|_|  _|        _|_|_|\n",
            "    _|    _|  _|    _|  _|    _|  _|    _|    _|    _|    _|_|  _|    _|      _|        _|    _|  _|        _|\n",
            "    _|    _|    _|_|      _|_|_|    _|_|_|  _|_|_|  _|      _|    _|_|_|      _|        _|    _|    _|_|_|  _|_|_|_|\n",
            "\n",
            "    A token is already saved on your machine. Run `huggingface-cli whoami` to get more information or `huggingface-cli logout` if you want to log out.\n",
            "    Setting a new token will erase the existing one.\n",
            "    To login, `huggingface_hub` requires a token generated from https://huggingface.co/settings/tokens .\n",
            "Token: \n",
            "Add token as git credential? (Y/n) n\n",
            "Token is valid (permission: read).\n",
            "Your token has been saved to /root/.cache/huggingface/token\n",
            "Login successful\n"
          ]
        }
      ]
    },
    {
      "cell_type": "code",
      "source": [
        "checkpoint = \"Deci/DeciCoder-1b\"\n",
        "device = \"cuda\" # for GPU usage or \"cpu\" for CPU usage"
      ],
      "metadata": {
        "id": "uIcaR_rdApUH"
      },
      "execution_count": 6,
      "outputs": []
    },
    {
      "cell_type": "code",
      "source": [
        "tokenizer = AutoTokenizer.from_pretrained(checkpoint)\n",
        "\n",
        "tokenizer_fim = AutoTokenizer.from_pretrained(checkpoint, padding_side=\"left\")\n",
        "\n",
        "FIM_PREFIX = \"<fim_prefix>\"\n",
        "FIM_MIDDLE = \"<fim_middle>\"\n",
        "FIM_SUFFIX = \"<fim_suffix>\"\n",
        "FIM_PAD = \"<fim_pad>\"\n",
        "EOD = \"<|endoftext|>\"\n",
        "\n",
        "\n",
        "tokenizer_fim.add_special_tokens({\n",
        "  \"additional_special_tokens\": [EOD, FIM_PREFIX, FIM_MIDDLE, FIM_SUFFIX, FIM_PAD],\n",
        "  \"pad_token\": EOD,\n",
        "})"
      ],
      "metadata": {
        "colab": {
          "base_uri": "https://localhost:8080/"
        },
        "id": "3vn_CXDyApW-",
        "outputId": "73e2b964-a8fd-4dc3-baa3-5f96539ba1b3"
      },
      "execution_count": 7,
      "outputs": [
        {
          "output_type": "execute_result",
          "data": {
            "text/plain": [
              "0"
            ]
          },
          "metadata": {},
          "execution_count": 7
        }
      ]
    },
    {
      "cell_type": "code",
      "source": [
        "prompt = \"def all_odd_elements(sequence):\\n    \\\"\\\"\\\"Returns every odd element of the sequence.\\\"\\\"\\\"\""
      ],
      "metadata": {
        "id": "HS3M712zApcO"
      },
      "execution_count": 8,
      "outputs": []
    },
    {
      "cell_type": "code",
      "source": [
        "tokenizer.padding_side = \"left\"\n",
        "tokenizer.pad_token = tokenizer.eos_token\n",
        "inputs = tokenizer([prompt], return_tensors=\"pt\",padding=True).to(device)"
      ],
      "metadata": {
        "id": "SqCT6458Dvhd"
      },
      "execution_count": 9,
      "outputs": []
    },
    {
      "cell_type": "code",
      "source": [
        "tokenizer.padding_side"
      ],
      "metadata": {
        "colab": {
          "base_uri": "https://localhost:8080/",
          "height": 35
        },
        "id": "ojWce830I4dN",
        "outputId": "92819f63-2bca-4764-dca7-86edbf5990c2"
      },
      "execution_count": 10,
      "outputs": [
        {
          "output_type": "execute_result",
          "data": {
            "text/plain": [
              "'left'"
            ],
            "application/vnd.google.colaboratory.intrinsic+json": {
              "type": "string"
            }
          },
          "metadata": {},
          "execution_count": 10
        }
      ]
    },
    {
      "cell_type": "code",
      "source": [
        "model = AutoModelForCausalLM.from_pretrained(\"Deci/DeciCoder-1b\", trust_remote_code=True)\n",
        "\n",
        "input_text = \"<fim-prefix>def fib(n):<fim-suffix>    else:\\n        return fib(n - 2) + fib(n - 1)<fim-middle>\"\n",
        "\n",
        "inputs = tokenizer_fim(input_text, return_tensors=\"pt\", padding=True, return_token_type_ids=False)\n",
        "\n",
        "outputs = model.generate(**inputs, max_new_tokens=25)\n",
        "\n",
        "generation = [tokenizer_fim.decode(tensor, skip_special_tokens=False) for tensor in outputs]\n",
        "\n",
        "print(generation[0])\n"
      ],
      "metadata": {
        "colab": {
          "base_uri": "https://localhost:8080/"
        },
        "id": "cvmvkFMrDvqR",
        "outputId": "5f414404-41da-447b-ee99-e4c979f18a7d"
      },
      "execution_count": 11,
      "outputs": [
        {
          "output_type": "stream",
          "name": "stderr",
          "text": [
            "Setting `pad_token_id` to `eos_token_id`:0 for open-end generation.\n"
          ]
        },
        {
          "output_type": "stream",
          "name": "stdout",
          "text": [
            "<fim-prefix>def fib(n):<fim-suffix>    else:\n",
            "        return fib(n - 2) + fib(n - 1)<fim-middle>\n",
            "    <fim-prefix>def fib(n):<fim-suffix>    else:\n",
            "        return fib(\n"
          ]
        }
      ]
    },
    {
      "cell_type": "code",
      "source": [
        "def read_until_empty_line(inputString):\n",
        "  result = []\n",
        "  final_result = ''\n",
        "  lines = inputString.splitlines()\n",
        "  for line in lines:\n",
        "    if(line==\"\"):\n",
        "      break\n",
        "    final_result = final_result+line+\"\\n\"\n",
        "  return final_result\n"
      ],
      "metadata": {
        "id": "qJ3TgzSxU76C"
      },
      "execution_count": 68,
      "outputs": []
    },
    {
      "cell_type": "code",
      "source": [
        "input_text = \"<fim_prefix>def print_hello_world():\\n    <fim_suffix>\\n    print('Hello world!')<fim_middle>\"\n",
        "inputs = tokenizer_fim.encode(input_text, return_tensors=\"pt\")\n",
        "outputs = model.generate(inputs)\n",
        "result = tokenizer.decode(outputs[0])\n",
        "\n",
        "print(read_until_empty_line(result))"
      ],
      "metadata": {
        "colab": {
          "base_uri": "https://localhost:8080/"
        },
        "id": "jHuBmEm-JXZ4",
        "outputId": "c6f671c6-152e-4ca8-fdba-101546ada18f"
      },
      "execution_count": 70,
      "outputs": [
        {
          "output_type": "stream",
          "name": "stderr",
          "text": [
            "The attention mask and the pad token id were not set. As a consequence, you may observe unexpected behavior. Please pass your input's `attention_mask` to obtain reliable results.\n",
            "Setting `pad_token_id` to `eos_token_id`:0 for open-end generation.\n",
            "/usr/local/lib/python3.10/dist-packages/transformers/generation/utils.py:1273: UserWarning: Using the model-agnostic default `max_length` (=20) to control the generation length. We recommend setting `max_new_tokens` to control the maximum length of the generation.\n",
            "  warnings.warn(\n"
          ]
        },
        {
          "output_type": "stream",
          "name": "stdout",
          "text": [
            "<fim_prefix>def print_hello_world():\n",
            "    <fim_suffix>\n",
            "    print('Hello world!')<fim_middle><|endoftext|>\n",
            "\n"
          ]
        }
      ]
    },
    {
      "cell_type": "code",
      "source": [
        "prompt = \"def all_odd_elements(sequence):\\n    \\\"\\\"\\\"Returns every odd element of the sequence.\\\"\\\"\\\"\"\n",
        "inputs = tokenizer_fim.encode(prompt, return_tensors=\"pt\")\n",
        "outputs = model.generate(inputs,max_new_tokens=50)\n",
        "result = tokenizer.decode(outputs[0])\n",
        "\n",
        "print(read_until_empty_line(result))"
      ],
      "metadata": {
        "colab": {
          "base_uri": "https://localhost:8080/"
        },
        "id": "PBQJnshRM_LV",
        "outputId": "6095b941-f04e-4b44-dee6-24da3d426239"
      },
      "execution_count": 71,
      "outputs": [
        {
          "output_type": "stream",
          "name": "stderr",
          "text": [
            "The attention mask and the pad token id were not set. As a consequence, you may observe unexpected behavior. Please pass your input's `attention_mask` to obtain reliable results.\n",
            "Setting `pad_token_id` to `eos_token_id`:0 for open-end generation.\n"
          ]
        },
        {
          "output_type": "stream",
          "name": "stdout",
          "text": [
            "def all_odd_elements(sequence):\n",
            "    \"\"\"Returns every odd element of the sequence.\"\"\"\n",
            "    return [x for x in sequence if x % 2!= 0]\n",
            "\n"
          ]
        }
      ]
    },
    {
      "cell_type": "code",
      "source": [
        "prompt = \"def end_of_line(sequence):\\n    \\\"\\\"\\\"Returns text till empty line.\\\"\\\"\\\"\"\n",
        "inputs = tokenizer_fim.encode(prompt, return_tensors=\"pt\")\n",
        "outputs = model.generate(inputs,max_new_tokens=50)\n",
        "result = tokenizer.decode(outputs[0])\n",
        "\n",
        "print(read_until_empty_line(result))"
      ],
      "metadata": {
        "colab": {
          "base_uri": "https://localhost:8080/"
        },
        "id": "NIahWqrTPF_f",
        "outputId": "5530374f-1a75-4046-c90a-8c55e4b32e8c"
      },
      "execution_count": 72,
      "outputs": [
        {
          "output_type": "stream",
          "name": "stderr",
          "text": [
            "The attention mask and the pad token id were not set. As a consequence, you may observe unexpected behavior. Please pass your input's `attention_mask` to obtain reliable results.\n",
            "Setting `pad_token_id` to `eos_token_id`:0 for open-end generation.\n"
          ]
        },
        {
          "output_type": "stream",
          "name": "stdout",
          "text": [
            "def end_of_line(sequence):\n",
            "    \"\"\"Returns text till empty line.\"\"\"\n",
            "    return sequence.rsplit('\\n', 1)[0]\n",
            "\n"
          ]
        }
      ]
    }
  ]
}