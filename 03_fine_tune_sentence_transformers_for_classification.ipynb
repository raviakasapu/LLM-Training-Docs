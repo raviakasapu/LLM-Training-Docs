{
  "nbformat": 4,
  "nbformat_minor": 0,
  "metadata": {
    "colab": {
      "provenance": [],
      "authorship_tag": "ABX9TyMA04TCKsol8uwMQDH/BPBV",
      "include_colab_link": true
    },
    "kernelspec": {
      "name": "python3",
      "display_name": "Python 3"
    },
    "language_info": {
      "name": "python"
    }
  },
  "cells": [
    {
      "cell_type": "markdown",
      "metadata": {
        "id": "view-in-github",
        "colab_type": "text"
      },
      "source": [
        "<a href=\"https://colab.research.google.com/github/raviakasapu/LLM-Training-Docs/blob/main/03_fine_tune_sentence_transformers_for_classification.ipynb\" target=\"_parent\"><img src=\"https://colab.research.google.com/assets/colab-badge.svg\" alt=\"Open In Colab\"/></a>"
      ]
    },
    {
      "cell_type": "markdown",
      "source": [
        "# fine-tune sentence transformers for classification"
      ],
      "metadata": {
        "id": "fV-mfuM9fJGI"
      }
    },
    {
      "cell_type": "markdown",
      "source": [
        "https://aws.amazon.com/blogs/machine-learning/create-and-fine-tune-sentence-transformers-for-enhanced-classification-accuracy/"
      ],
      "metadata": {
        "id": "7_x9Sy8zfOUN"
      }
    },
    {
      "cell_type": "code",
      "source": [
        "!pip install sentencepiece --quiet\n",
        "!pip install sentence_transformers --quiet\n",
        "!pip install xgboost –-quiet\n",
        "!pip install scikit-learn –-quiet/"
      ],
      "metadata": {
        "colab": {
          "base_uri": "https://localhost:8080/"
        },
        "id": "A3v6vONffQpe",
        "outputId": "9fe8e7fb-b8a3-4678-9df1-173ea04e4b7b"
      },
      "execution_count": null,
      "outputs": [
        {
          "output_type": "stream",
          "name": "stdout",
          "text": [
            "\u001b[2K   \u001b[91m━━━━━━━━━━━━━━━━━━━━━━━━━━━━━━━━━━━━━━━\u001b[0m\u001b[91m╸\u001b[0m \u001b[32m363.4/363.4 MB\u001b[0m \u001b[31m88.8 MB/s\u001b[0m eta \u001b[36m0:00:01\u001b[0m"
          ]
        }
      ]
    }
  ]
}